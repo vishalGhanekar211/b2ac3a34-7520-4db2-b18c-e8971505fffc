{
 "cells": [
  {
   "cell_type": "code",
   "execution_count": 58,
   "id": "cd12661a-b5d9-4505-929b-696e3d41ebae",
   "metadata": {},
   "outputs": [
    {
     "name": "stderr",
     "output_type": "stream",
     "text": [
      "also installing the dependencies ‘RcppTOML’, ‘here’, ‘png’\n",
      "\n",
      "\n",
      "Updating HTML index of packages in '.Library'\n",
      "\n",
      "Making 'packages.html' ...\n",
      " done\n",
      "\n"
     ]
    }
   ],
   "source": [
    "install.packages('reticulate')"
   ]
  },
  {
   "cell_type": "code",
   "execution_count": 59,
   "id": "6556644d-927e-4a1f-a63d-2974e9c937d4",
   "metadata": {},
   "outputs": [
    {
     "name": "stderr",
     "output_type": "stream",
     "text": [
      "also installing the dependencies ‘glue’, ‘cli’\n",
      "\n",
      "\n",
      "Updating HTML index of packages in '.Library'\n",
      "\n",
      "Making 'packages.html' ...\n",
      " done\n",
      "\n"
     ]
    }
   ],
   "source": [
    "install.packages('devtools')"
   ]
  },
  {
   "cell_type": "code",
   "execution_count": 43,
   "id": "69f4d8cf-71bd-4cae-a82b-3a098dc12734",
   "metadata": {},
   "outputs": [
    {
     "name": "stderr",
     "output_type": "stream",
     "text": [
      "Updating HTML index of packages in '.Library'\n",
      "\n",
      "Making 'packages.html' ...\n",
      " done\n",
      "\n"
     ]
    }
   ],
   "source": [
    "install.packages('rpart.plot')"
   ]
  },
  {
   "cell_type": "code",
   "execution_count": 60,
   "id": "20fead5e-106b-4e5e-8ffe-743228be3b64",
   "metadata": {},
   "outputs": [
    {
     "name": "stderr",
     "output_type": "stream",
     "text": [
      "Loading required package: usethis\n",
      "\n"
     ]
    }
   ],
   "source": [
    "library( readr )\n",
    "library( ggplot2 )\n",
    "library( rpart )\n",
    "library( randomForest )\n",
    "library( readr )\n",
    "library( pROC )\n",
    "library( dplyr)\n",
    "library(reticulate)\n",
    "library(devtools)"
   ]
  },
  {
   "cell_type": "code",
   "execution_count": 2,
   "id": "852bcbb9-78ef-45a2-990e-c13f02fff39c",
   "metadata": {},
   "outputs": [],
   "source": [
    "# Load the dataset\n",
    "iris=read.csv('/data/Iris.csv')"
   ]
  },
  {
   "cell_type": "code",
   "execution_count": 10,
   "id": "b464fc12-c807-41d5-bcc6-b75f714b3077",
   "metadata": {},
   "outputs": [
    {
     "data": {
      "text/html": [
       "<style>\n",
       ".list-inline {list-style: none; margin:0; padding: 0}\n",
       ".list-inline>li {display: inline-block}\n",
       ".list-inline>li:not(:last-child)::after {content: \"\\00b7\"; padding: 0 .5ex}\n",
       "</style>\n",
       "<ol class=list-inline><li>150</li><li>5</li></ol>\n"
      ],
      "text/latex": [
       "\\begin{enumerate*}\n",
       "\\item 150\n",
       "\\item 5\n",
       "\\end{enumerate*}\n"
      ],
      "text/markdown": [
       "1. 150\n",
       "2. 5\n",
       "\n",
       "\n"
      ],
      "text/plain": [
       "[1] 150   5"
      ]
     },
     "metadata": {},
     "output_type": "display_data"
    },
    {
     "data": {
      "text/html": [
       "<style>\n",
       ".list-inline {list-style: none; margin:0; padding: 0}\n",
       ".list-inline>li {display: inline-block}\n",
       ".list-inline>li:not(:last-child)::after {content: \"\\00b7\"; padding: 0 .5ex}\n",
       "</style>\n",
       "<ol class=list-inline><li>'SepalLengthCm'</li><li>'SepalWidthCm'</li><li>'PetalLengthCm'</li><li>'PetalWidthCm'</li><li>'Species_Encoded'</li></ol>\n"
      ],
      "text/latex": [
       "\\begin{enumerate*}\n",
       "\\item 'SepalLengthCm'\n",
       "\\item 'SepalWidthCm'\n",
       "\\item 'PetalLengthCm'\n",
       "\\item 'PetalWidthCm'\n",
       "\\item 'Species\\_Encoded'\n",
       "\\end{enumerate*}\n"
      ],
      "text/markdown": [
       "1. 'SepalLengthCm'\n",
       "2. 'SepalWidthCm'\n",
       "3. 'PetalLengthCm'\n",
       "4. 'PetalWidthCm'\n",
       "5. 'Species_Encoded'\n",
       "\n",
       "\n"
      ],
      "text/plain": [
       "[1] \"SepalLengthCm\"   \"SepalWidthCm\"    \"PetalLengthCm\"   \"PetalWidthCm\"   \n",
       "[5] \"Species_Encoded\""
      ]
     },
     "metadata": {},
     "output_type": "display_data"
    },
    {
     "name": "stdout",
     "output_type": "stream",
     "text": [
      "'data.frame':\t150 obs. of  5 variables:\n",
      " $ SepalLengthCm  : num  5.1 4.9 4.7 4.6 5 5.4 4.6 5 4.4 4.9 ...\n",
      " $ SepalWidthCm   : num  3.5 3 3.2 3.1 3.6 3.9 3.4 3.4 2.9 3.1 ...\n",
      " $ PetalLengthCm  : num  1.4 1.4 1.3 1.5 1.4 1.7 1.4 1.5 1.4 1.5 ...\n",
      " $ PetalWidthCm   : num  0.2 0.2 0.2 0.2 0.2 0.4 0.3 0.2 0.2 0.1 ...\n",
      " $ Species_Encoded: int  0 0 0 0 0 0 0 0 0 0 ...\n"
     ]
    },
    {
     "data": {
      "text/html": [
       "<dl>\n",
       "\t<dt>$names</dt>\n",
       "\t\t<dd><style>\n",
       ".list-inline {list-style: none; margin:0; padding: 0}\n",
       ".list-inline>li {display: inline-block}\n",
       ".list-inline>li:not(:last-child)::after {content: \"\\00b7\"; padding: 0 .5ex}\n",
       "</style>\n",
       "<ol class=list-inline><li>'SepalLengthCm'</li><li>'SepalWidthCm'</li><li>'PetalLengthCm'</li><li>'PetalWidthCm'</li><li>'Species_Encoded'</li></ol>\n",
       "</dd>\n",
       "\t<dt>$class</dt>\n",
       "\t\t<dd>'data.frame'</dd>\n",
       "\t<dt>$row.names</dt>\n",
       "\t\t<dd><style>\n",
       ".list-inline {list-style: none; margin:0; padding: 0}\n",
       ".list-inline>li {display: inline-block}\n",
       ".list-inline>li:not(:last-child)::after {content: \"\\00b7\"; padding: 0 .5ex}\n",
       "</style>\n",
       "<ol class=list-inline><li>1</li><li>2</li><li>3</li><li>4</li><li>5</li><li>6</li><li>7</li><li>8</li><li>9</li><li>10</li><li>11</li><li>12</li><li>13</li><li>14</li><li>15</li><li>16</li><li>17</li><li>18</li><li>19</li><li>20</li><li>21</li><li>22</li><li>23</li><li>24</li><li>25</li><li>26</li><li>27</li><li>28</li><li>29</li><li>30</li><li>31</li><li>32</li><li>33</li><li>34</li><li>35</li><li>36</li><li>37</li><li>38</li><li>39</li><li>40</li><li>41</li><li>42</li><li>43</li><li>44</li><li>45</li><li>46</li><li>47</li><li>48</li><li>49</li><li>50</li><li>51</li><li>52</li><li>53</li><li>54</li><li>55</li><li>56</li><li>57</li><li>58</li><li>59</li><li>60</li><li>61</li><li>62</li><li>63</li><li>64</li><li>65</li><li>66</li><li>67</li><li>68</li><li>69</li><li>70</li><li>71</li><li>72</li><li>73</li><li>74</li><li>75</li><li>76</li><li>77</li><li>78</li><li>79</li><li>80</li><li>81</li><li>82</li><li>83</li><li>84</li><li>85</li><li>86</li><li>87</li><li>88</li><li>89</li><li>90</li><li>91</li><li>92</li><li>93</li><li>94</li><li>95</li><li>96</li><li>97</li><li>98</li><li>99</li><li>100</li><li>101</li><li>102</li><li>103</li><li>104</li><li>105</li><li>106</li><li>107</li><li>108</li><li>109</li><li>110</li><li>111</li><li>112</li><li>113</li><li>114</li><li>115</li><li>116</li><li>117</li><li>118</li><li>119</li><li>120</li><li>121</li><li>122</li><li>123</li><li>124</li><li>125</li><li>126</li><li>127</li><li>128</li><li>129</li><li>130</li><li>131</li><li>132</li><li>133</li><li>134</li><li>135</li><li>136</li><li>137</li><li>138</li><li>139</li><li>140</li><li>141</li><li>142</li><li>143</li><li>144</li><li>145</li><li>146</li><li>147</li><li>148</li><li>149</li><li>150</li></ol>\n",
       "</dd>\n",
       "</dl>\n"
      ],
      "text/latex": [
       "\\begin{description}\n",
       "\\item[\\$names] \\begin{enumerate*}\n",
       "\\item 'SepalLengthCm'\n",
       "\\item 'SepalWidthCm'\n",
       "\\item 'PetalLengthCm'\n",
       "\\item 'PetalWidthCm'\n",
       "\\item 'Species\\_Encoded'\n",
       "\\end{enumerate*}\n",
       "\n",
       "\\item[\\$class] 'data.frame'\n",
       "\\item[\\$row.names] \\begin{enumerate*}\n",
       "\\item 1\n",
       "\\item 2\n",
       "\\item 3\n",
       "\\item 4\n",
       "\\item 5\n",
       "\\item 6\n",
       "\\item 7\n",
       "\\item 8\n",
       "\\item 9\n",
       "\\item 10\n",
       "\\item 11\n",
       "\\item 12\n",
       "\\item 13\n",
       "\\item 14\n",
       "\\item 15\n",
       "\\item 16\n",
       "\\item 17\n",
       "\\item 18\n",
       "\\item 19\n",
       "\\item 20\n",
       "\\item 21\n",
       "\\item 22\n",
       "\\item 23\n",
       "\\item 24\n",
       "\\item 25\n",
       "\\item 26\n",
       "\\item 27\n",
       "\\item 28\n",
       "\\item 29\n",
       "\\item 30\n",
       "\\item 31\n",
       "\\item 32\n",
       "\\item 33\n",
       "\\item 34\n",
       "\\item 35\n",
       "\\item 36\n",
       "\\item 37\n",
       "\\item 38\n",
       "\\item 39\n",
       "\\item 40\n",
       "\\item 41\n",
       "\\item 42\n",
       "\\item 43\n",
       "\\item 44\n",
       "\\item 45\n",
       "\\item 46\n",
       "\\item 47\n",
       "\\item 48\n",
       "\\item 49\n",
       "\\item 50\n",
       "\\item 51\n",
       "\\item 52\n",
       "\\item 53\n",
       "\\item 54\n",
       "\\item 55\n",
       "\\item 56\n",
       "\\item 57\n",
       "\\item 58\n",
       "\\item 59\n",
       "\\item 60\n",
       "\\item 61\n",
       "\\item 62\n",
       "\\item 63\n",
       "\\item 64\n",
       "\\item 65\n",
       "\\item 66\n",
       "\\item 67\n",
       "\\item 68\n",
       "\\item 69\n",
       "\\item 70\n",
       "\\item 71\n",
       "\\item 72\n",
       "\\item 73\n",
       "\\item 74\n",
       "\\item 75\n",
       "\\item 76\n",
       "\\item 77\n",
       "\\item 78\n",
       "\\item 79\n",
       "\\item 80\n",
       "\\item 81\n",
       "\\item 82\n",
       "\\item 83\n",
       "\\item 84\n",
       "\\item 85\n",
       "\\item 86\n",
       "\\item 87\n",
       "\\item 88\n",
       "\\item 89\n",
       "\\item 90\n",
       "\\item 91\n",
       "\\item 92\n",
       "\\item 93\n",
       "\\item 94\n",
       "\\item 95\n",
       "\\item 96\n",
       "\\item 97\n",
       "\\item 98\n",
       "\\item 99\n",
       "\\item 100\n",
       "\\item 101\n",
       "\\item 102\n",
       "\\item 103\n",
       "\\item 104\n",
       "\\item 105\n",
       "\\item 106\n",
       "\\item 107\n",
       "\\item 108\n",
       "\\item 109\n",
       "\\item 110\n",
       "\\item 111\n",
       "\\item 112\n",
       "\\item 113\n",
       "\\item 114\n",
       "\\item 115\n",
       "\\item 116\n",
       "\\item 117\n",
       "\\item 118\n",
       "\\item 119\n",
       "\\item 120\n",
       "\\item 121\n",
       "\\item 122\n",
       "\\item 123\n",
       "\\item 124\n",
       "\\item 125\n",
       "\\item 126\n",
       "\\item 127\n",
       "\\item 128\n",
       "\\item 129\n",
       "\\item 130\n",
       "\\item 131\n",
       "\\item 132\n",
       "\\item 133\n",
       "\\item 134\n",
       "\\item 135\n",
       "\\item 136\n",
       "\\item 137\n",
       "\\item 138\n",
       "\\item 139\n",
       "\\item 140\n",
       "\\item 141\n",
       "\\item 142\n",
       "\\item 143\n",
       "\\item 144\n",
       "\\item 145\n",
       "\\item 146\n",
       "\\item 147\n",
       "\\item 148\n",
       "\\item 149\n",
       "\\item 150\n",
       "\\end{enumerate*}\n",
       "\n",
       "\\end{description}\n"
      ],
      "text/markdown": [
       "$names\n",
       ":   1. 'SepalLengthCm'\n",
       "2. 'SepalWidthCm'\n",
       "3. 'PetalLengthCm'\n",
       "4. 'PetalWidthCm'\n",
       "5. 'Species_Encoded'\n",
       "\n",
       "\n",
       "\n",
       "$class\n",
       ":   'data.frame'\n",
       "$row.names\n",
       ":   1. 1\n",
       "2. 2\n",
       "3. 3\n",
       "4. 4\n",
       "5. 5\n",
       "6. 6\n",
       "7. 7\n",
       "8. 8\n",
       "9. 9\n",
       "10. 10\n",
       "11. 11\n",
       "12. 12\n",
       "13. 13\n",
       "14. 14\n",
       "15. 15\n",
       "16. 16\n",
       "17. 17\n",
       "18. 18\n",
       "19. 19\n",
       "20. 20\n",
       "21. 21\n",
       "22. 22\n",
       "23. 23\n",
       "24. 24\n",
       "25. 25\n",
       "26. 26\n",
       "27. 27\n",
       "28. 28\n",
       "29. 29\n",
       "30. 30\n",
       "31. 31\n",
       "32. 32\n",
       "33. 33\n",
       "34. 34\n",
       "35. 35\n",
       "36. 36\n",
       "37. 37\n",
       "38. 38\n",
       "39. 39\n",
       "40. 40\n",
       "41. 41\n",
       "42. 42\n",
       "43. 43\n",
       "44. 44\n",
       "45. 45\n",
       "46. 46\n",
       "47. 47\n",
       "48. 48\n",
       "49. 49\n",
       "50. 50\n",
       "51. 51\n",
       "52. 52\n",
       "53. 53\n",
       "54. 54\n",
       "55. 55\n",
       "56. 56\n",
       "57. 57\n",
       "58. 58\n",
       "59. 59\n",
       "60. 60\n",
       "61. 61\n",
       "62. 62\n",
       "63. 63\n",
       "64. 64\n",
       "65. 65\n",
       "66. 66\n",
       "67. 67\n",
       "68. 68\n",
       "69. 69\n",
       "70. 70\n",
       "71. 71\n",
       "72. 72\n",
       "73. 73\n",
       "74. 74\n",
       "75. 75\n",
       "76. 76\n",
       "77. 77\n",
       "78. 78\n",
       "79. 79\n",
       "80. 80\n",
       "81. 81\n",
       "82. 82\n",
       "83. 83\n",
       "84. 84\n",
       "85. 85\n",
       "86. 86\n",
       "87. 87\n",
       "88. 88\n",
       "89. 89\n",
       "90. 90\n",
       "91. 91\n",
       "92. 92\n",
       "93. 93\n",
       "94. 94\n",
       "95. 95\n",
       "96. 96\n",
       "97. 97\n",
       "98. 98\n",
       "99. 99\n",
       "100. 100\n",
       "101. 101\n",
       "102. 102\n",
       "103. 103\n",
       "104. 104\n",
       "105. 105\n",
       "106. 106\n",
       "107. 107\n",
       "108. 108\n",
       "109. 109\n",
       "110. 110\n",
       "111. 111\n",
       "112. 112\n",
       "113. 113\n",
       "114. 114\n",
       "115. 115\n",
       "116. 116\n",
       "117. 117\n",
       "118. 118\n",
       "119. 119\n",
       "120. 120\n",
       "121. 121\n",
       "122. 122\n",
       "123. 123\n",
       "124. 124\n",
       "125. 125\n",
       "126. 126\n",
       "127. 127\n",
       "128. 128\n",
       "129. 129\n",
       "130. 130\n",
       "131. 131\n",
       "132. 132\n",
       "133. 133\n",
       "134. 134\n",
       "135. 135\n",
       "136. 136\n",
       "137. 137\n",
       "138. 138\n",
       "139. 139\n",
       "140. 140\n",
       "141. 141\n",
       "142. 142\n",
       "143. 143\n",
       "144. 144\n",
       "145. 145\n",
       "146. 146\n",
       "147. 147\n",
       "148. 148\n",
       "149. 149\n",
       "150. 150\n",
       "\n",
       "\n",
       "\n",
       "\n",
       "\n"
      ],
      "text/plain": [
       "$names\n",
       "[1] \"SepalLengthCm\"   \"SepalWidthCm\"    \"PetalLengthCm\"   \"PetalWidthCm\"   \n",
       "[5] \"Species_Encoded\"\n",
       "\n",
       "$class\n",
       "[1] \"data.frame\"\n",
       "\n",
       "$row.names\n",
       "  [1]   1   2   3   4   5   6   7   8   9  10  11  12  13  14  15  16  17  18\n",
       " [19]  19  20  21  22  23  24  25  26  27  28  29  30  31  32  33  34  35  36\n",
       " [37]  37  38  39  40  41  42  43  44  45  46  47  48  49  50  51  52  53  54\n",
       " [55]  55  56  57  58  59  60  61  62  63  64  65  66  67  68  69  70  71  72\n",
       " [73]  73  74  75  76  77  78  79  80  81  82  83  84  85  86  87  88  89  90\n",
       " [91]  91  92  93  94  95  96  97  98  99 100 101 102 103 104 105 106 107 108\n",
       "[109] 109 110 111 112 113 114 115 116 117 118 119 120 121 122 123 124 125 126\n",
       "[127] 127 128 129 130 131 132 133 134 135 136 137 138 139 140 141 142 143 144\n",
       "[145] 145 146 147 148 149 150\n"
      ]
     },
     "metadata": {},
     "output_type": "display_data"
    },
    {
     "data": {
      "text/html": [
       "<table class=\"dataframe\">\n",
       "<caption>A data.frame: 6 × 5</caption>\n",
       "<thead>\n",
       "\t<tr><th></th><th scope=col>SepalLengthCm</th><th scope=col>SepalWidthCm</th><th scope=col>PetalLengthCm</th><th scope=col>PetalWidthCm</th><th scope=col>Species_Encoded</th></tr>\n",
       "\t<tr><th></th><th scope=col>&lt;dbl&gt;</th><th scope=col>&lt;dbl&gt;</th><th scope=col>&lt;dbl&gt;</th><th scope=col>&lt;dbl&gt;</th><th scope=col>&lt;int&gt;</th></tr>\n",
       "</thead>\n",
       "<tbody>\n",
       "\t<tr><th scope=row>1</th><td>5.1</td><td>3.5</td><td>1.4</td><td>0.2</td><td>0</td></tr>\n",
       "\t<tr><th scope=row>2</th><td>4.9</td><td>3.0</td><td>1.4</td><td>0.2</td><td>0</td></tr>\n",
       "\t<tr><th scope=row>3</th><td>4.7</td><td>3.2</td><td>1.3</td><td>0.2</td><td>0</td></tr>\n",
       "\t<tr><th scope=row>4</th><td>4.6</td><td>3.1</td><td>1.5</td><td>0.2</td><td>0</td></tr>\n",
       "\t<tr><th scope=row>5</th><td>5.0</td><td>3.6</td><td>1.4</td><td>0.2</td><td>0</td></tr>\n",
       "\t<tr><th scope=row>6</th><td>5.4</td><td>3.9</td><td>1.7</td><td>0.4</td><td>0</td></tr>\n",
       "</tbody>\n",
       "</table>\n"
      ],
      "text/latex": [
       "A data.frame: 6 × 5\n",
       "\\begin{tabular}{r|lllll}\n",
       "  & SepalLengthCm & SepalWidthCm & PetalLengthCm & PetalWidthCm & Species\\_Encoded\\\\\n",
       "  & <dbl> & <dbl> & <dbl> & <dbl> & <int>\\\\\n",
       "\\hline\n",
       "\t1 & 5.1 & 3.5 & 1.4 & 0.2 & 0\\\\\n",
       "\t2 & 4.9 & 3.0 & 1.4 & 0.2 & 0\\\\\n",
       "\t3 & 4.7 & 3.2 & 1.3 & 0.2 & 0\\\\\n",
       "\t4 & 4.6 & 3.1 & 1.5 & 0.2 & 0\\\\\n",
       "\t5 & 5.0 & 3.6 & 1.4 & 0.2 & 0\\\\\n",
       "\t6 & 5.4 & 3.9 & 1.7 & 0.4 & 0\\\\\n",
       "\\end{tabular}\n"
      ],
      "text/markdown": [
       "\n",
       "A data.frame: 6 × 5\n",
       "\n",
       "| <!--/--> | SepalLengthCm &lt;dbl&gt; | SepalWidthCm &lt;dbl&gt; | PetalLengthCm &lt;dbl&gt; | PetalWidthCm &lt;dbl&gt; | Species_Encoded &lt;int&gt; |\n",
       "|---|---|---|---|---|---|\n",
       "| 1 | 5.1 | 3.5 | 1.4 | 0.2 | 0 |\n",
       "| 2 | 4.9 | 3.0 | 1.4 | 0.2 | 0 |\n",
       "| 3 | 4.7 | 3.2 | 1.3 | 0.2 | 0 |\n",
       "| 4 | 4.6 | 3.1 | 1.5 | 0.2 | 0 |\n",
       "| 5 | 5.0 | 3.6 | 1.4 | 0.2 | 0 |\n",
       "| 6 | 5.4 | 3.9 | 1.7 | 0.4 | 0 |\n",
       "\n"
      ],
      "text/plain": [
       "  SepalLengthCm SepalWidthCm PetalLengthCm PetalWidthCm Species_Encoded\n",
       "1 5.1           3.5          1.4           0.2          0              \n",
       "2 4.9           3.0          1.4           0.2          0              \n",
       "3 4.7           3.2          1.3           0.2          0              \n",
       "4 4.6           3.1          1.5           0.2          0              \n",
       "5 5.0           3.6          1.4           0.2          0              \n",
       "6 5.4           3.9          1.7           0.4          0              "
      ]
     },
     "metadata": {},
     "output_type": "display_data"
    },
    {
     "data": {
      "text/plain": [
       " SepalLengthCm    SepalWidthCm   PetalLengthCm    PetalWidthCm  \n",
       " Min.   :4.300   Min.   :2.000   Min.   :1.000   Min.   :0.100  \n",
       " 1st Qu.:5.100   1st Qu.:2.800   1st Qu.:1.600   1st Qu.:0.300  \n",
       " Median :5.800   Median :3.000   Median :4.350   Median :1.300  \n",
       " Mean   :5.843   Mean   :3.054   Mean   :3.759   Mean   :1.199  \n",
       " 3rd Qu.:6.400   3rd Qu.:3.300   3rd Qu.:5.100   3rd Qu.:1.800  \n",
       " Max.   :7.900   Max.   :4.400   Max.   :6.900   Max.   :2.500  \n",
       " Species_Encoded\n",
       " Min.   :0      \n",
       " 1st Qu.:0      \n",
       " Median :1      \n",
       " Mean   :1      \n",
       " 3rd Qu.:2      \n",
       " Max.   :2      "
      ]
     },
     "metadata": {},
     "output_type": "display_data"
    }
   ],
   "source": [
    "dim ( iris )\n",
    "names( iris )\n",
    "str( iris )\n",
    "attributes( iris )\n",
    "head( iris )\n",
    "summary( iris )"
   ]
  },
  {
   "cell_type": "code",
   "execution_count": 4,
   "id": "32a03730-7ec3-43ed-be5d-fe891406da1b",
   "metadata": {},
   "outputs": [
    {
     "data": {
      "text/html": [
       "<table class=\"dataframe\">\n",
       "<caption>A data.frame: 10 × 5</caption>\n",
       "<thead>\n",
       "\t<tr><th></th><th scope=col>SepalLengthCm</th><th scope=col>SepalWidthCm</th><th scope=col>PetalLengthCm</th><th scope=col>PetalWidthCm</th><th scope=col>Species_Encoded</th></tr>\n",
       "\t<tr><th></th><th scope=col>&lt;dbl&gt;</th><th scope=col>&lt;dbl&gt;</th><th scope=col>&lt;dbl&gt;</th><th scope=col>&lt;dbl&gt;</th><th scope=col>&lt;int&gt;</th></tr>\n",
       "</thead>\n",
       "<tbody>\n",
       "\t<tr><th scope=row>129</th><td>6.4</td><td>2.8</td><td>5.6</td><td>2.1</td><td>2</td></tr>\n",
       "\t<tr><th scope=row>3</th><td>4.7</td><td>3.2</td><td>1.3</td><td>0.2</td><td>0</td></tr>\n",
       "\t<tr><th scope=row>49</th><td>5.3</td><td>3.7</td><td>1.5</td><td>0.2</td><td>0</td></tr>\n",
       "\t<tr><th scope=row>132</th><td>7.9</td><td>3.8</td><td>6.4</td><td>2.0</td><td>2</td></tr>\n",
       "\t<tr><th scope=row>140</th><td>6.9</td><td>3.1</td><td>5.4</td><td>2.1</td><td>2</td></tr>\n",
       "\t<tr><th scope=row>76</th><td>6.6</td><td>3.0</td><td>4.4</td><td>1.4</td><td>1</td></tr>\n",
       "\t<tr><th scope=row>109</th><td>6.7</td><td>2.5</td><td>5.8</td><td>1.8</td><td>2</td></tr>\n",
       "\t<tr><th scope=row>77</th><td>6.8</td><td>2.8</td><td>4.8</td><td>1.4</td><td>1</td></tr>\n",
       "\t<tr><th scope=row>87</th><td>6.7</td><td>3.1</td><td>4.7</td><td>1.5</td><td>1</td></tr>\n",
       "\t<tr><th scope=row>48</th><td>4.6</td><td>3.2</td><td>1.4</td><td>0.2</td><td>0</td></tr>\n",
       "</tbody>\n",
       "</table>\n"
      ],
      "text/latex": [
       "A data.frame: 10 × 5\n",
       "\\begin{tabular}{r|lllll}\n",
       "  & SepalLengthCm & SepalWidthCm & PetalLengthCm & PetalWidthCm & Species\\_Encoded\\\\\n",
       "  & <dbl> & <dbl> & <dbl> & <dbl> & <int>\\\\\n",
       "\\hline\n",
       "\t129 & 6.4 & 2.8 & 5.6 & 2.1 & 2\\\\\n",
       "\t3 & 4.7 & 3.2 & 1.3 & 0.2 & 0\\\\\n",
       "\t49 & 5.3 & 3.7 & 1.5 & 0.2 & 0\\\\\n",
       "\t132 & 7.9 & 3.8 & 6.4 & 2.0 & 2\\\\\n",
       "\t140 & 6.9 & 3.1 & 5.4 & 2.1 & 2\\\\\n",
       "\t76 & 6.6 & 3.0 & 4.4 & 1.4 & 1\\\\\n",
       "\t109 & 6.7 & 2.5 & 5.8 & 1.8 & 2\\\\\n",
       "\t77 & 6.8 & 2.8 & 4.8 & 1.4 & 1\\\\\n",
       "\t87 & 6.7 & 3.1 & 4.7 & 1.5 & 1\\\\\n",
       "\t48 & 4.6 & 3.2 & 1.4 & 0.2 & 0\\\\\n",
       "\\end{tabular}\n"
      ],
      "text/markdown": [
       "\n",
       "A data.frame: 10 × 5\n",
       "\n",
       "| <!--/--> | SepalLengthCm &lt;dbl&gt; | SepalWidthCm &lt;dbl&gt; | PetalLengthCm &lt;dbl&gt; | PetalWidthCm &lt;dbl&gt; | Species_Encoded &lt;int&gt; |\n",
       "|---|---|---|---|---|---|\n",
       "| 129 | 6.4 | 2.8 | 5.6 | 2.1 | 2 |\n",
       "| 3 | 4.7 | 3.2 | 1.3 | 0.2 | 0 |\n",
       "| 49 | 5.3 | 3.7 | 1.5 | 0.2 | 0 |\n",
       "| 132 | 7.9 | 3.8 | 6.4 | 2.0 | 2 |\n",
       "| 140 | 6.9 | 3.1 | 5.4 | 2.1 | 2 |\n",
       "| 76 | 6.6 | 3.0 | 4.4 | 1.4 | 1 |\n",
       "| 109 | 6.7 | 2.5 | 5.8 | 1.8 | 2 |\n",
       "| 77 | 6.8 | 2.8 | 4.8 | 1.4 | 1 |\n",
       "| 87 | 6.7 | 3.1 | 4.7 | 1.5 | 1 |\n",
       "| 48 | 4.6 | 3.2 | 1.4 | 0.2 | 0 |\n",
       "\n"
      ],
      "text/plain": [
       "    SepalLengthCm SepalWidthCm PetalLengthCm PetalWidthCm Species_Encoded\n",
       "129 6.4           2.8          5.6           2.1          2              \n",
       "3   4.7           3.2          1.3           0.2          0              \n",
       "49  5.3           3.7          1.5           0.2          0              \n",
       "132 7.9           3.8          6.4           2.0          2              \n",
       "140 6.9           3.1          5.4           2.1          2              \n",
       "76  6.6           3.0          4.4           1.4          1              \n",
       "109 6.7           2.5          5.8           1.8          2              \n",
       "77  6.8           2.8          4.8           1.4          1              \n",
       "87  6.7           3.1          4.7           1.5          1              \n",
       "48  4.6           3.2          1.4           0.2          0              "
      ]
     },
     "metadata": {},
     "output_type": "display_data"
    }
   ],
   "source": [
    "# First let's get a random sampling of the data\n",
    "iris[sample(nrow(iris),10),]"
   ]
  },
  {
   "cell_type": "code",
   "execution_count": 24,
   "id": "3380e3c1-378d-4097-a6e4-e7f2c56f20f9",
   "metadata": {},
   "outputs": [
    {
     "data": {
      "image/png": "[encoded data removed]",
      "text/plain": [
       "plot without title"
      ]
     },
     "metadata": {
      "image/png": {
       "height": 420,
       "width": 420
      }
     },
     "output_type": "display_data"
    }
   ],
   "source": [
    "pie( table( iris$Species_Encoded ))"
   ]
  },
  {
   "cell_type": "code",
   "execution_count": 46,
   "id": "e22bd021-714b-4526-892d-e412ebbfe1a9",
   "metadata": {},
   "outputs": [],
   "source": [
    "# Split Data into Training and Testing in R \n",
    "sample_size = floor(0.8*nrow(iris))\n",
    "set.seed(777)\n",
    "\n",
    "# randomly split data in r\n",
    "iris$Species_Encoded = factor(iris$Species_Encoded)\n",
    "picked = sample(seq_len(nrow(iris)),size = sample_size)\n",
    "training =iris[picked,]\n",
    "testing =iris[-picked,]"
   ]
  },
  {
   "cell_type": "code",
   "execution_count": 47,
   "id": "bf375e46-4774-43c4-9c6e-cac87e4776c9",
   "metadata": {},
   "outputs": [],
   "source": [
    "schema <- Species_Encoded~."
   ]
  },
  {
   "cell_type": "code",
   "execution_count": 48,
   "id": "17339438-bb5f-439c-96aa-26e9abf5cc92",
   "metadata": {},
   "outputs": [
    {
     "name": "stderr",
     "output_type": "stream",
     "text": [
      "Setting direction: controls < cases\n",
      "\n",
      "Setting direction: controls < cases\n",
      "\n",
      "Setting direction: controls < cases\n",
      "\n"
     ]
    },
    {
     "name": "stdout",
     "output_type": "stream",
     "text": [
      "\n",
      "Call:\n",
      "multiclass.roc.default(response = testing$Species_Encoded, predictor = rf.numericPrediction)\n",
      "\n",
      "Data: rf.numericPrediction with 3 levels of testing$Species_Encoded: 0, 1, 2.\n",
      "Multi-class area under the curve: 0.9889\n"
     ]
    }
   ],
   "source": [
    "rf.model      <- randomForest( schema, data=training, method=\"class\" )\n",
    "rf.prediction <- predict( rf.model, testing )\n",
    "\n",
    "rf.numericPrediction <- as.numeric( rf.prediction )\n",
    "rf.roc               <- multiclass.roc( testing$Species_Encoded, rf.numericPrediction )\n",
    "print( rf.roc ) # AUC = 100%"
   ]
  },
  {
   "cell_type": "code",
   "execution_count": 55,
   "id": "136b9292-a052-485c-815e-c18cb73acc62",
   "metadata": {},
   "outputs": [],
   "source": [
    "y_true = testing$Species_Encoded\n",
    "y_pred = predict( rf.model, testing )"
   ]
  },
  {
   "cell_type": "code",
   "execution_count": 49,
   "id": "01053ab9-603c-4502-8f12-e1bbee3f1989",
   "metadata": {},
   "outputs": [
    {
     "data": {
      "image/png": "[encoded data removed]",
      "text/plain": [
       "Plot with title “rf.model”"
      ]
     },
     "metadata": {
      "image/png": {
       "height": 420,
       "width": 420
      }
     },
     "output_type": "display_data"
    }
   ],
   "source": [
    "plot( rf.model )"
   ]
  },
  {
   "cell_type": "code",
   "execution_count": 50,
   "id": "1b1b9d44-7f04-402d-a952-12e19ac06e01",
   "metadata": {},
   "outputs": [
    {
     "data": {
      "text/html": [
       "<table class=\"dataframe\">\n",
       "<caption>A matrix: 4 × 1 of type dbl</caption>\n",
       "<thead>\n",
       "\t<tr><th></th><th scope=col>MeanDecreaseGini</th></tr>\n",
       "</thead>\n",
       "<tbody>\n",
       "\t<tr><th scope=row>SepalLengthCm</th><td> 8.065839</td></tr>\n",
       "\t<tr><th scope=row>SepalWidthCm</th><td> 2.120452</td></tr>\n",
       "\t<tr><th scope=row>PetalLengthCm</th><td>35.423917</td></tr>\n",
       "\t<tr><th scope=row>PetalWidthCm</th><td>33.175925</td></tr>\n",
       "</tbody>\n",
       "</table>\n"
      ],
      "text/latex": [
       "A matrix: 4 × 1 of type dbl\n",
       "\\begin{tabular}{r|l}\n",
       "  & MeanDecreaseGini\\\\\n",
       "\\hline\n",
       "\tSepalLengthCm &  8.065839\\\\\n",
       "\tSepalWidthCm &  2.120452\\\\\n",
       "\tPetalLengthCm & 35.423917\\\\\n",
       "\tPetalWidthCm & 33.175925\\\\\n",
       "\\end{tabular}\n"
      ],
      "text/markdown": [
       "\n",
       "A matrix: 4 × 1 of type dbl\n",
       "\n",
       "| <!--/--> | MeanDecreaseGini |\n",
       "|---|---|\n",
       "| SepalLengthCm |  8.065839 |\n",
       "| SepalWidthCm |  2.120452 |\n",
       "| PetalLengthCm | 35.423917 |\n",
       "| PetalWidthCm | 33.175925 |\n",
       "\n"
      ],
      "text/plain": [
       "              MeanDecreaseGini\n",
       "SepalLengthCm  8.065839       \n",
       "SepalWidthCm   2.120452       \n",
       "PetalLengthCm 35.423917       \n",
       "PetalWidthCm  33.175925       "
      ]
     },
     "metadata": {},
     "output_type": "display_data"
    }
   ],
   "source": [
    "importance( rf.model )"
   ]
  },
  {
   "cell_type": "code",
   "execution_count": 51,
   "id": "f5c4c963-dc60-46f3-ba4b-2ef5c1830899",
   "metadata": {},
   "outputs": [],
   "source": [
    "library(mosaicrml)"
   ]
  },
  {
   "cell_type": "code",
   "execution_count": 52,
   "id": "a81acbef-52d2-47db-a0fc-c2f86da8f96e",
   "metadata": {},
   "outputs": [],
   "source": [
    "# Make predictions\n",
    "score <- function(rf.model, request_path){\n",
    "  data <- read.csv(request_path)\n",
    "  data = select(data,  Species_Encoded,SepalLengthCm,SepalWidthCm,PetalLengthCm,PetalWidthCm)\n",
    "  data$Species_Encoded = factor(data$Species_Encoded)\n",
    "  #data$Pclass = factor(stevens$Pclass, order=TRUE, levels = c(3, 2, 1))\n",
    "  \n",
    "  #bet <- read.table(request_path)\n",
    "  PredictForest <- predict(rf.model, newdata = data)\n",
    "  return (toJSON(PredictForest))\n",
    "}"
   ]
  },
  {
   "cell_type": "code",
   "execution_count": 53,
   "id": "4cf82d40-ddbe-4b94-afd2-19378c1f6b20",
   "metadata": {},
   "outputs": [],
   "source": [
    "predict_prob <- predict(rf.model, testing, type=\"prob\")"
   ]
  },
  {
   "cell_type": "code",
   "execution_count": 61,
   "id": "98052df7-3e47-483a-be72-5971e890a3d9",
   "metadata": {},
   "outputs": [
    {
     "name": "stdout",
     "output_type": "stream",
     "text": [
      "[1] \"Entering Register Model\"\n",
      "[1] \"Creating model\"\n",
      "[1] \"Creating version\"\n",
      "[1] \"Model Registered\"\n",
      "[1] \"Creating tar\"\n",
      "[1] \"/tmp/Rtmpf3M16C/model.rds\"\n",
      "[1] \"Saving models\"\n",
      "[1] \"Creating Tar\"\n",
      "[1] \"Build time metrics\"\n"
     ]
    },
    {
     "name": "stderr",
     "output_type": "stream",
     "text": [
      "Loading required package: lattice\n",
      "\n",
      "Warning message in plot.window(xlim, ylim, log, ...):\n",
      "“\"top\" is not a graphical parameter”\n",
      "Warning message in axis(side = side, at = at, labels = labels, ...):\n",
      "“\"top\" is not a graphical parameter”\n",
      "Warning message in title(xlab = xlab, ylab = ylab, ...):\n",
      "“\"top\" is not a graphical parameter”\n",
      "Warning message in plot.xy(xy.coords(x, y), type = type, ...):\n",
      "“\"top\" is not a graphical parameter”\n"
     ]
    }
   ],
   "source": [
    "value <- register_model(\n",
    "  rf.model,\n",
    "  score,\n",
    "  name=\"Iris_Classification_R\",\n",
    "  description=\"Iris Classification R Model\",\n",
    "  flavour=\"r\",\n",
    "  input_type=\"file\",\n",
    "  y_true=y_true,\n",
    "  y_pred=y_pred,\n",
    "  prob=predict_prob,\n",
    "  labels=list(\"Setoas\",\"Versicolor\",\"Virginica\"),\n",
    "  model_type=\"classification\",\n",
    "  )"
   ]
  },
  {
   "cell_type": "code",
   "execution_count": null,
   "id": "934c819f-aca5-4da6-9b9f-92ea3cd581d9",
   "metadata": {},
   "outputs": [],
   "source": []
  },
  {
   "cell_type": "code",
   "execution_count": null,
   "id": "da5cfe1f-a8aa-4dc5-8685-84f0e5d3ef1d",
   "metadata": {},
   "outputs": [],
   "source": []
  },
  {
   "cell_type": "code",
   "execution_count": null,
   "id": "f76d2805-3c95-44c1-b9b3-b05a7c8294b4",
   "metadata": {},
   "outputs": [],
   "source": []
  }
 ],
 "metadata": {
  "kernelspec": {
   "display_name": "R",
   "language": "R",
   "name": "ir"
  },
  "language_info": {
   "codemirror_mode": "r",
   "file_extension": ".r",
   "mimetype": "text/x-r-source",
   "name": "R",
   "pygments_lexer": "r",
   "version": "4.0.3"
  }
 },
 "nbformat": 4,
 "nbformat_minor": 5
}
