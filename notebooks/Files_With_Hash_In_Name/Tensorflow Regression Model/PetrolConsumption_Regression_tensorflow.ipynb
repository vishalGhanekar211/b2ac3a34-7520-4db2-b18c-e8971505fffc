{
 "cells": [
  {
   "cell_type": "code",
   "execution_count": 21,
   "id": "8aa74d71",
   "metadata": {},
   "outputs": [],
   "source": [
    "import pandas as pd\n",
    "import numpy as np\n",
    "import tensorflow as tf\n",
    "\n",
    "import matplotlib.pyplot as plt\n",
    "%matplotlib inline\n",
    "\n",
    "from sklearn.model_selection import train_test_split"
   ]
  },
  {
   "cell_type": "code",
   "execution_count": 22,
   "id": "942bc042",
   "metadata": {},
   "outputs": [
    {
     "name": "stdout",
     "output_type": "stream",
     "text": [
      "2.4.1\n"
     ]
    }
   ],
   "source": [
    "print(tf.__version__)"
   ]
  },
  {
   "cell_type": "code",
   "execution_count": 23,
   "id": "63190f91",
   "metadata": {},
   "outputs": [],
   "source": [
    "petrol_cons = pd.read_csv('/data/petrol_consumption.csv')"
   ]
  },
  {
   "cell_type": "code",
   "execution_count": 24,
   "id": "755868de",
   "metadata": {
    "scrolled": true
   },
   "outputs": [
    {
     "data": {
      "text/html": [
       "<div>\n",
       "<style scoped>\n",
       "    .dataframe tbody tr th:only-of-type {\n",
       "        vertical-align: middle;\n",
       "    }\n",
       "\n",
       "    .dataframe tbody tr th {\n",
       "        vertical-align: top;\n",
       "    }\n",
       "\n",
       "    .dataframe thead th {\n",
       "        text-align: right;\n",
       "    }\n",
       "</style>\n",
       "<table border=\"1\" class=\"dataframe\">\n",
       "  <thead>\n",
       "    <tr style=\"text-align: right;\">\n",
       "      <th></th>\n",
       "      <th>Petrol_tax</th>\n",
       "      <th>Average_income</th>\n",
       "      <th>Paved_Highways</th>\n",
       "      <th>Population_Driver_licence(%)</th>\n",
       "      <th>Petrol_Consumption</th>\n",
       "    </tr>\n",
       "  </thead>\n",
       "  <tbody>\n",
       "    <tr>\n",
       "      <th>0</th>\n",
       "      <td>9.0</td>\n",
       "      <td>3571</td>\n",
       "      <td>1976</td>\n",
       "      <td>0.525</td>\n",
       "      <td>541</td>\n",
       "    </tr>\n",
       "    <tr>\n",
       "      <th>1</th>\n",
       "      <td>9.0</td>\n",
       "      <td>4092</td>\n",
       "      <td>1250</td>\n",
       "      <td>0.572</td>\n",
       "      <td>524</td>\n",
       "    </tr>\n",
       "    <tr>\n",
       "      <th>2</th>\n",
       "      <td>9.0</td>\n",
       "      <td>3865</td>\n",
       "      <td>1586</td>\n",
       "      <td>0.580</td>\n",
       "      <td>561</td>\n",
       "    </tr>\n",
       "    <tr>\n",
       "      <th>3</th>\n",
       "      <td>7.5</td>\n",
       "      <td>4870</td>\n",
       "      <td>2351</td>\n",
       "      <td>0.529</td>\n",
       "      <td>414</td>\n",
       "    </tr>\n",
       "    <tr>\n",
       "      <th>4</th>\n",
       "      <td>8.0</td>\n",
       "      <td>4399</td>\n",
       "      <td>431</td>\n",
       "      <td>0.544</td>\n",
       "      <td>410</td>\n",
       "    </tr>\n",
       "  </tbody>\n",
       "</table>\n",
       "</div>"
      ],
      "text/plain": [
       "   Petrol_tax  Average_income  Paved_Highways  Population_Driver_licence(%)  \\\n",
       "0         9.0            3571            1976                         0.525   \n",
       "1         9.0            4092            1250                         0.572   \n",
       "2         9.0            3865            1586                         0.580   \n",
       "3         7.5            4870            2351                         0.529   \n",
       "4         8.0            4399             431                         0.544   \n",
       "\n",
       "   Petrol_Consumption  \n",
       "0                 541  \n",
       "1                 524  \n",
       "2                 561  \n",
       "3                 414  \n",
       "4                 410  "
      ]
     },
     "execution_count": 24,
     "metadata": {},
     "output_type": "execute_result"
    }
   ],
   "source": [
    "petrol_cons.head()"
   ]
  },
  {
   "cell_type": "code",
   "execution_count": 25,
   "id": "9639b014",
   "metadata": {},
   "outputs": [],
   "source": [
    "X = petrol_cons.iloc[:, 0:4].values\n",
    "y = petrol_cons.iloc[:, 4].values\n",
    "\n",
    "from sklearn.model_selection import train_test_split\n",
    "\n",
    "X_train, X_test, y_train, y_test = train_test_split(X, y, test_size=0.2, random_state=0)\n",
    "\n",
    "from sklearn.preprocessing import StandardScaler\n",
    "\n",
    "sc = StandardScaler()\n",
    "X_train = sc.fit_transform(X_train)\n",
    "X_test = sc.transform(X_test)"
   ]
  },
  {
   "cell_type": "code",
   "execution_count": 26,
   "id": "b89c4003",
   "metadata": {},
   "outputs": [],
   "source": [
    "from tensorflow.keras.layers import Input, Dense, Activation,Dropout\n",
    "from tensorflow.keras.models import Model"
   ]
  },
  {
   "cell_type": "code",
   "execution_count": 27,
   "id": "84d6ebc7",
   "metadata": {},
   "outputs": [],
   "source": [
    "input_layer = Input(shape=(X.shape[1],))\n",
    "dense_layer_1 = Dense(100, activation='relu')(input_layer)\n",
    "dense_layer_2 = Dense(50, activation='relu')(dense_layer_1)\n",
    "dense_layer_3 = Dense(25, activation='relu')(dense_layer_2)\n",
    "output = Dense(1)(dense_layer_3)\n",
    "\n",
    "model_tf = Model(inputs=input_layer, outputs=output)\n",
    "model_tf.compile(loss=\"mean_squared_error\" , optimizer=\"adam\", metrics=[\"mean_squared_error\"])"
   ]
  },
  {
   "cell_type": "code",
   "execution_count": 28,
   "id": "c7168c8a",
   "metadata": {},
   "outputs": [
    {
     "name": "stdout",
     "output_type": "stream",
     "text": [
      "Model: \"model_2\"\n",
      "_________________________________________________________________\n",
      "Layer (type)                 Output Shape              Param #   \n",
      "=================================================================\n",
      "input_3 (InputLayer)         [(None, 4)]               0         \n",
      "_________________________________________________________________\n",
      "dense_8 (Dense)              (None, 100)               500       \n",
      "_________________________________________________________________\n",
      "dense_9 (Dense)              (None, 50)                5050      \n",
      "_________________________________________________________________\n",
      "dense_10 (Dense)             (None, 25)                1275      \n",
      "_________________________________________________________________\n",
      "dense_11 (Dense)             (None, 1)                 26        \n",
      "=================================================================\n",
      "Total params: 6,851\n",
      "Trainable params: 6,851\n",
      "Non-trainable params: 0\n",
      "_________________________________________________________________\n",
      "None\n"
     ]
    }
   ],
   "source": [
    "print(model_tf.summary())"
   ]
  },
  {
   "cell_type": "code",
   "execution_count": 29,
   "id": "acbfbc07",
   "metadata": {
    "scrolled": false
   },
   "outputs": [
    {
     "name": "stdout",
     "output_type": "stream",
     "text": [
      "Epoch 1/30\n",
      "WARNING:tensorflow:AutoGraph could not transform <function Model.make_train_function.<locals>.train_function at 0x7f04502f60d0> and will run it as-is.\n",
      "Please report this to the TensorFlow team. When filing the bug, set the verbosity to 10 (on Linux, `export AUTOGRAPH_VERBOSITY=10`) and attach the full output.\n",
      "Cause: unsupported operand type(s) for -: 'NoneType' and 'int'\n",
      "To silence this warning, decorate the function with @tf.autograph.experimental.do_not_convert\n",
      "WARNING: AutoGraph could not transform <function Model.make_train_function.<locals>.train_function at 0x7f04502f60d0> and will run it as-is.\n",
      "Please report this to the TensorFlow team. When filing the bug, set the verbosity to 10 (on Linux, `export AUTOGRAPH_VERBOSITY=10`) and attach the full output.\n",
      "Cause: unsupported operand type(s) for -: 'NoneType' and 'int'\n",
      "To silence this warning, decorate the function with @tf.autograph.experimental.do_not_convert\n",
      "1/4 [======>.......................] - ETA: 1s - loss: 378377.9688 - mean_squared_error: 378377.9688WARNING:tensorflow:AutoGraph could not transform <function Model.make_test_function.<locals>.test_function at 0x7f045032b840> and will run it as-is.\n",
      "Please report this to the TensorFlow team. When filing the bug, set the verbosity to 10 (on Linux, `export AUTOGRAPH_VERBOSITY=10`) and attach the full output.\n",
      "Cause: unsupported operand type(s) for -: 'NoneType' and 'int'\n",
      "To silence this warning, decorate the function with @tf.autograph.experimental.do_not_convert\n",
      "WARNING: AutoGraph could not transform <function Model.make_test_function.<locals>.test_function at 0x7f045032b840> and will run it as-is.\n",
      "Please report this to the TensorFlow team. When filing the bug, set the verbosity to 10 (on Linux, `export AUTOGRAPH_VERBOSITY=10`) and attach the full output.\n",
      "Cause: unsupported operand type(s) for -: 'NoneType' and 'int'\n",
      "To silence this warning, decorate the function with @tf.autograph.experimental.do_not_convert\n",
      "4/4 [==============================] - 0s 50ms/step - loss: 345620.9688 - mean_squared_error: 345620.9688 - val_loss: 402622.8125 - val_mean_squared_error: 402622.8125\n",
      "Epoch 2/30\n",
      "4/4 [==============================] - 0s 10ms/step - loss: 347106.8438 - mean_squared_error: 347106.8438 - val_loss: 402403.5312 - val_mean_squared_error: 402403.5312\n",
      "Epoch 3/30\n",
      "4/4 [==============================] - 0s 9ms/step - loss: 332782.2625 - mean_squared_error: 332782.2500 - val_loss: 402150.0625 - val_mean_squared_error: 402150.0625\n",
      "Epoch 4/30\n",
      "4/4 [==============================] - 0s 9ms/step - loss: 324928.8063 - mean_squared_error: 324928.8063 - val_loss: 401875.1250 - val_mean_squared_error: 401875.1250\n",
      "Epoch 5/30\n",
      "4/4 [==============================] - 0s 8ms/step - loss: 337411.1500 - mean_squared_error: 337411.1500 - val_loss: 401565.2500 - val_mean_squared_error: 401565.2500\n",
      "Epoch 6/30\n",
      "4/4 [==============================] - 0s 9ms/step - loss: 338467.8937 - mean_squared_error: 338467.8937 - val_loss: 401205.8125 - val_mean_squared_error: 401205.8125\n",
      "Epoch 7/30\n",
      "4/4 [==============================] - 0s 9ms/step - loss: 334249.7062 - mean_squared_error: 334249.7062 - val_loss: 400795.2500 - val_mean_squared_error: 400795.2500\n",
      "Epoch 8/30\n",
      "4/4 [==============================] - 0s 9ms/step - loss: 347082.2062 - mean_squared_error: 347082.2062 - val_loss: 400301.7812 - val_mean_squared_error: 400301.7812\n",
      "Epoch 9/30\n",
      "4/4 [==============================] - 0s 8ms/step - loss: 332379.0875 - mean_squared_error: 332379.0750 - val_loss: 399702.1875 - val_mean_squared_error: 399702.1875\n",
      "Epoch 10/30\n",
      "4/4 [==============================] - 0s 9ms/step - loss: 332121.0563 - mean_squared_error: 332121.0563 - val_loss: 398984.1250 - val_mean_squared_error: 398984.1250\n",
      "Epoch 11/30\n",
      "4/4 [==============================] - 0s 9ms/step - loss: 329068.4000 - mean_squared_error: 329068.4000 - val_loss: 398119.6562 - val_mean_squared_error: 398119.6562\n",
      "Epoch 12/30\n",
      "4/4 [==============================] - 0s 9ms/step - loss: 326470.0125 - mean_squared_error: 326470.0125 - val_loss: 397071.8438 - val_mean_squared_error: 397071.8438\n",
      "Epoch 13/30\n",
      "4/4 [==============================] - 0s 9ms/step - loss: 351043.3500 - mean_squared_error: 351043.3500 - val_loss: 395776.9375 - val_mean_squared_error: 395776.9375\n",
      "Epoch 14/30\n",
      "4/4 [==============================] - 0s 9ms/step - loss: 351958.7938 - mean_squared_error: 351958.7938 - val_loss: 394215.6250 - val_mean_squared_error: 394215.6250\n",
      "Epoch 15/30\n",
      "4/4 [==============================] - 0s 9ms/step - loss: 326016.6937 - mean_squared_error: 326016.6937 - val_loss: 392307.4062 - val_mean_squared_error: 392307.4062\n",
      "Epoch 16/30\n",
      "4/4 [==============================] - 0s 10ms/step - loss: 327923.2625 - mean_squared_error: 327923.2625 - val_loss: 390060.1250 - val_mean_squared_error: 390060.1250\n",
      "Epoch 17/30\n",
      "4/4 [==============================] - 0s 9ms/step - loss: 326273.5375 - mean_squared_error: 326273.5375 - val_loss: 387361.1250 - val_mean_squared_error: 387361.1250\n",
      "Epoch 18/30\n",
      "4/4 [==============================] - 0s 11ms/step - loss: 340771.7313 - mean_squared_error: 340771.7313 - val_loss: 384206.8750 - val_mean_squared_error: 384206.8750\n",
      "Epoch 19/30\n",
      "4/4 [==============================] - 0s 9ms/step - loss: 302653.4562 - mean_squared_error: 302653.4562 - val_loss: 380540.2812 - val_mean_squared_error: 380540.2812\n",
      "Epoch 20/30\n",
      "4/4 [==============================] - 0s 9ms/step - loss: 305905.4625 - mean_squared_error: 305905.4625 - val_loss: 376242.2188 - val_mean_squared_error: 376242.2188\n",
      "Epoch 21/30\n",
      "4/4 [==============================] - 0s 9ms/step - loss: 320003.7625 - mean_squared_error: 320003.7625 - val_loss: 371262.5625 - val_mean_squared_error: 371262.5625\n",
      "Epoch 22/30\n",
      "4/4 [==============================] - 0s 9ms/step - loss: 312586.7313 - mean_squared_error: 312586.7313 - val_loss: 365580.0625 - val_mean_squared_error: 365580.0625\n",
      "Epoch 23/30\n",
      "4/4 [==============================] - 0s 44ms/step - loss: 307315.2000 - mean_squared_error: 307315.2000 - val_loss: 359095.4062 - val_mean_squared_error: 359095.4062\n",
      "Epoch 24/30\n",
      "4/4 [==============================] - 0s 9ms/step - loss: 302708.7875 - mean_squared_error: 302708.7875 - val_loss: 351687.6875 - val_mean_squared_error: 351687.6875\n",
      "Epoch 25/30\n",
      "4/4 [==============================] - 0s 9ms/step - loss: 294455.0000 - mean_squared_error: 294455.0000 - val_loss: 343445.9688 - val_mean_squared_error: 343445.9688\n",
      "Epoch 26/30\n",
      "4/4 [==============================] - 0s 9ms/step - loss: 283277.0250 - mean_squared_error: 283277.0250 - val_loss: 334199.1875 - val_mean_squared_error: 334199.1875\n",
      "Epoch 27/30\n",
      "4/4 [==============================] - 0s 11ms/step - loss: 259305.4062 - mean_squared_error: 259305.4062 - val_loss: 324018.5938 - val_mean_squared_error: 324018.5938\n",
      "Epoch 28/30\n",
      "4/4 [==============================] - 0s 10ms/step - loss: 235215.9875 - mean_squared_error: 235215.9875 - val_loss: 312845.1875 - val_mean_squared_error: 312845.1875\n",
      "Epoch 29/30\n",
      "4/4 [==============================] - 0s 10ms/step - loss: 241260.8656 - mean_squared_error: 241260.8656 - val_loss: 300476.6875 - val_mean_squared_error: 300476.6875\n",
      "Epoch 30/30\n",
      "4/4 [==============================] - 0s 9ms/step - loss: 237667.0844 - mean_squared_error: 237667.0844 - val_loss: 286920.7188 - val_mean_squared_error: 286920.7188\n"
     ]
    }
   ],
   "source": [
    "history = model_tf.fit(X_train, y_train, batch_size=8, epochs=30, verbose=1, validation_split=0.2)"
   ]
  },
  {
   "cell_type": "code",
   "execution_count": 31,
   "id": "728d97d2",
   "metadata": {},
   "outputs": [
    {
     "name": "stdout",
     "output_type": "stream",
     "text": [
      "Epoch 1/50\n",
      "15/15 [==============================] - 0s 10ms/step - loss: 191025.2031 - mean_squared_error: 191025.2031 - val_loss: 230496.1719 - val_mean_squared_error: 230496.1719\n",
      "Epoch 2/50\n",
      "15/15 [==============================] - 0s 3ms/step - loss: 131929.4844 - mean_squared_error: 131929.4844 - val_loss: 169224.6875 - val_mean_squared_error: 169224.6875\n",
      "Epoch 3/50\n",
      "15/15 [==============================] - 0s 3ms/step - loss: 75755.8516 - mean_squared_error: 75755.8516 - val_loss: 115569.0312 - val_mean_squared_error: 115569.0312\n",
      "Epoch 4/50\n",
      "15/15 [==============================] - 0s 3ms/step - loss: 45083.7773 - mean_squared_error: 45083.7773 - val_loss: 76159.8906 - val_mean_squared_error: 76159.8906\n",
      "Epoch 5/50\n",
      "15/15 [==============================] - 0s 3ms/step - loss: 30895.7305 - mean_squared_error: 30895.7305 - val_loss: 56438.4922 - val_mean_squared_error: 56438.4922\n",
      "Epoch 6/50\n",
      "15/15 [==============================] - 0s 3ms/step - loss: 25530.4590 - mean_squared_error: 25530.4590 - val_loss: 48818.6719 - val_mean_squared_error: 48818.6719\n",
      "Epoch 7/50\n",
      "15/15 [==============================] - 0s 3ms/step - loss: 22566.9336 - mean_squared_error: 22566.9336 - val_loss: 39423.6875 - val_mean_squared_error: 39423.6875\n",
      "Epoch 8/50\n",
      "15/15 [==============================] - 0s 3ms/step - loss: 19961.8223 - mean_squared_error: 19961.8223 - val_loss: 33263.7227 - val_mean_squared_error: 33263.7227\n",
      "Epoch 9/50\n",
      "15/15 [==============================] - 0s 3ms/step - loss: 17853.3164 - mean_squared_error: 17853.3164 - val_loss: 30529.4785 - val_mean_squared_error: 30529.4785\n",
      "Epoch 10/50\n",
      "15/15 [==============================] - 0s 3ms/step - loss: 16588.7246 - mean_squared_error: 16588.7246 - val_loss: 27580.3242 - val_mean_squared_error: 27580.3242\n",
      "Epoch 11/50\n",
      "15/15 [==============================] - 0s 3ms/step - loss: 15170.0439 - mean_squared_error: 15170.0439 - val_loss: 24297.7246 - val_mean_squared_error: 24297.7246\n",
      "Epoch 12/50\n",
      "15/15 [==============================] - 0s 3ms/step - loss: 13752.7979 - mean_squared_error: 13752.7979 - val_loss: 21041.4941 - val_mean_squared_error: 21041.4941\n",
      "Epoch 13/50\n",
      "15/15 [==============================] - 0s 3ms/step - loss: 13133.5586 - mean_squared_error: 13133.5586 - val_loss: 19084.2559 - val_mean_squared_error: 19084.2559\n",
      "Epoch 14/50\n",
      "15/15 [==============================] - 0s 3ms/step - loss: 12043.0635 - mean_squared_error: 12043.0635 - val_loss: 18477.9043 - val_mean_squared_error: 18477.9043\n",
      "Epoch 15/50\n",
      "15/15 [==============================] - 0s 3ms/step - loss: 11325.8467 - mean_squared_error: 11325.8467 - val_loss: 17658.0859 - val_mean_squared_error: 17658.0859\n",
      "Epoch 16/50\n",
      "15/15 [==============================] - 0s 3ms/step - loss: 10688.2793 - mean_squared_error: 10688.2793 - val_loss: 16699.9688 - val_mean_squared_error: 16699.9688\n",
      "Epoch 17/50\n",
      "15/15 [==============================] - 0s 3ms/step - loss: 10164.0586 - mean_squared_error: 10164.0586 - val_loss: 16251.7705 - val_mean_squared_error: 16251.7705\n",
      "Epoch 18/50\n",
      "15/15 [==============================] - 0s 12ms/step - loss: 9610.7637 - mean_squared_error: 9610.7637 - val_loss: 15090.6299 - val_mean_squared_error: 15090.6299\n",
      "Epoch 19/50\n",
      "15/15 [==============================] - 0s 3ms/step - loss: 9173.2305 - mean_squared_error: 9173.2305 - val_loss: 14911.2930 - val_mean_squared_error: 14911.2930\n",
      "Epoch 20/50\n",
      "15/15 [==============================] - 0s 3ms/step - loss: 8774.8125 - mean_squared_error: 8774.8125 - val_loss: 14048.5566 - val_mean_squared_error: 14048.5566\n",
      "Epoch 21/50\n",
      "15/15 [==============================] - 0s 3ms/step - loss: 8637.8838 - mean_squared_error: 8637.8838 - val_loss: 14304.2012 - val_mean_squared_error: 14304.2012\n",
      "Epoch 22/50\n",
      "15/15 [==============================] - 0s 3ms/step - loss: 7759.5361 - mean_squared_error: 7759.5361 - val_loss: 13716.9160 - val_mean_squared_error: 13716.9160\n",
      "Epoch 23/50\n",
      "15/15 [==============================] - 0s 3ms/step - loss: 7435.1045 - mean_squared_error: 7435.1045 - val_loss: 12942.2695 - val_mean_squared_error: 12942.2695\n",
      "Epoch 24/50\n",
      "15/15 [==============================] - 0s 3ms/step - loss: 7099.8931 - mean_squared_error: 7099.8931 - val_loss: 13008.6494 - val_mean_squared_error: 13008.6494\n",
      "Epoch 25/50\n",
      "15/15 [==============================] - 0s 3ms/step - loss: 6821.8374 - mean_squared_error: 6821.8374 - val_loss: 12867.6494 - val_mean_squared_error: 12867.6494\n",
      "Epoch 26/50\n",
      "15/15 [==============================] - 0s 4ms/step - loss: 6492.1050 - mean_squared_error: 6492.1050 - val_loss: 12770.1729 - val_mean_squared_error: 12770.1729\n",
      "Epoch 27/50\n",
      "15/15 [==============================] - 0s 3ms/step - loss: 6259.6138 - mean_squared_error: 6259.6138 - val_loss: 12786.8066 - val_mean_squared_error: 12786.8066\n",
      "Epoch 28/50\n",
      "15/15 [==============================] - 0s 3ms/step - loss: 5918.3760 - mean_squared_error: 5918.3760 - val_loss: 12492.8809 - val_mean_squared_error: 12492.8809\n",
      "Epoch 29/50\n",
      "15/15 [==============================] - 0s 3ms/step - loss: 5671.0576 - mean_squared_error: 5671.0576 - val_loss: 12116.0596 - val_mean_squared_error: 12116.0596\n",
      "Epoch 30/50\n",
      "15/15 [==============================] - 0s 3ms/step - loss: 5514.1396 - mean_squared_error: 5514.1396 - val_loss: 12104.8965 - val_mean_squared_error: 12104.8965\n",
      "Epoch 31/50\n",
      "15/15 [==============================] - 0s 3ms/step - loss: 5200.1348 - mean_squared_error: 5200.1348 - val_loss: 11742.5654 - val_mean_squared_error: 11742.5654\n",
      "Epoch 32/50\n",
      "15/15 [==============================] - 0s 3ms/step - loss: 5078.4810 - mean_squared_error: 5078.4810 - val_loss: 11782.4160 - val_mean_squared_error: 11782.4160\n",
      "Epoch 33/50\n",
      "15/15 [==============================] - 0s 3ms/step - loss: 4928.2178 - mean_squared_error: 4928.2178 - val_loss: 11786.2188 - val_mean_squared_error: 11786.2188\n",
      "Epoch 34/50\n",
      "15/15 [==============================] - 0s 4ms/step - loss: 4726.7583 - mean_squared_error: 4726.7583 - val_loss: 11737.2969 - val_mean_squared_error: 11737.2969\n",
      "Epoch 35/50\n",
      "15/15 [==============================] - 0s 3ms/step - loss: 4485.9458 - mean_squared_error: 4485.9458 - val_loss: 11717.1074 - val_mean_squared_error: 11717.1074\n",
      "Epoch 36/50\n",
      "15/15 [==============================] - 0s 4ms/step - loss: 4384.7749 - mean_squared_error: 4384.7749 - val_loss: 11466.6104 - val_mean_squared_error: 11466.6104\n",
      "Epoch 37/50\n",
      "15/15 [==============================] - 0s 3ms/step - loss: 4265.3545 - mean_squared_error: 4265.3545 - val_loss: 11187.0449 - val_mean_squared_error: 11187.0449\n",
      "Epoch 38/50\n",
      "15/15 [==============================] - 0s 4ms/step - loss: 4013.7688 - mean_squared_error: 4013.7688 - val_loss: 11562.0693 - val_mean_squared_error: 11562.0693\n",
      "Epoch 39/50\n",
      "15/15 [==============================] - 0s 3ms/step - loss: 3879.8110 - mean_squared_error: 3879.8110 - val_loss: 11387.0059 - val_mean_squared_error: 11387.0059\n",
      "Epoch 40/50\n",
      "15/15 [==============================] - 0s 3ms/step - loss: 3811.8132 - mean_squared_error: 3811.8132 - val_loss: 11210.7061 - val_mean_squared_error: 11210.7061\n",
      "Epoch 41/50\n",
      "15/15 [==============================] - 0s 4ms/step - loss: 3699.8374 - mean_squared_error: 3699.8374 - val_loss: 11093.8770 - val_mean_squared_error: 11093.8770\n",
      "Epoch 42/50\n",
      "15/15 [==============================] - 0s 3ms/step - loss: 3777.4192 - mean_squared_error: 3777.4192 - val_loss: 11193.4893 - val_mean_squared_error: 11193.4893\n",
      "Epoch 43/50\n",
      "15/15 [==============================] - 0s 4ms/step - loss: 3509.6567 - mean_squared_error: 3509.6567 - val_loss: 11101.3760 - val_mean_squared_error: 11101.3760\n",
      "Epoch 44/50\n",
      "15/15 [==============================] - 0s 4ms/step - loss: 3338.0229 - mean_squared_error: 3338.0229 - val_loss: 11001.2969 - val_mean_squared_error: 11001.2969\n",
      "Epoch 45/50\n",
      "15/15 [==============================] - 0s 3ms/step - loss: 3245.6802 - mean_squared_error: 3245.6802 - val_loss: 11026.4551 - val_mean_squared_error: 11026.4551\n",
      "Epoch 46/50\n",
      "15/15 [==============================] - 0s 3ms/step - loss: 3179.5139 - mean_squared_error: 3179.5139 - val_loss: 10899.9385 - val_mean_squared_error: 10899.9385\n",
      "Epoch 47/50\n"
     ]
    },
    {
     "name": "stdout",
     "output_type": "stream",
     "text": [
      "15/15 [==============================] - 0s 3ms/step - loss: 3170.7119 - mean_squared_error: 3170.7119 - val_loss: 10756.2734 - val_mean_squared_error: 10756.2734\n",
      "Epoch 48/50\n",
      "15/15 [==============================] - 0s 3ms/step - loss: 3015.0427 - mean_squared_error: 3015.0427 - val_loss: 10841.2939 - val_mean_squared_error: 10841.2939\n",
      "Epoch 49/50\n",
      "15/15 [==============================] - 0s 3ms/step - loss: 2962.9844 - mean_squared_error: 2962.9844 - val_loss: 10869.0059 - val_mean_squared_error: 10869.0059\n",
      "Epoch 50/50\n",
      "15/15 [==============================] - 0s 11ms/step - loss: 2914.7214 - mean_squared_error: 2914.7214 - val_loss: 11060.1084 - val_mean_squared_error: 11060.1084\n"
     ]
    }
   ],
   "source": [
    "history = model_tf.fit(X_train, y_train, batch_size=2, epochs=50, verbose=1, validation_split=0.2)"
   ]
  },
  {
   "cell_type": "code",
   "execution_count": 33,
   "id": "e7c7507d",
   "metadata": {},
   "outputs": [
    {
     "name": "stdout",
     "output_type": "stream",
     "text": [
      "WARNING:tensorflow:AutoGraph could not transform <function Model.make_predict_function.<locals>.predict_function at 0x7f041c1dfae8> and will run it as-is.\n",
      "Please report this to the TensorFlow team. When filing the bug, set the verbosity to 10 (on Linux, `export AUTOGRAPH_VERBOSITY=10`) and attach the full output.\n",
      "Cause: unsupported operand type(s) for -: 'NoneType' and 'int'\n",
      "To silence this warning, decorate the function with @tf.autograph.experimental.do_not_convert\n",
      "WARNING: AutoGraph could not transform <function Model.make_predict_function.<locals>.predict_function at 0x7f041c1dfae8> and will run it as-is.\n",
      "Please report this to the TensorFlow team. When filing the bug, set the verbosity to 10 (on Linux, `export AUTOGRAPH_VERBOSITY=10`) and attach the full output.\n",
      "Cause: unsupported operand type(s) for -: 'NoneType' and 'int'\n",
      "To silence this warning, decorate the function with @tf.autograph.experimental.do_not_convert\n",
      "67.3501089015611\n",
      "102.21425524989539\n"
     ]
    }
   ],
   "source": [
    "from sklearn.metrics import mean_squared_error\n",
    "from math import sqrt\n",
    "\n",
    "pred_train = model_tf.predict(X_train)\n",
    "print(np.sqrt(mean_squared_error(y_train,pred_train)))\n",
    "\n",
    "pred = model_tf.predict(X_test)\n",
    "print(np.sqrt(mean_squared_error(y_test,pred)))"
   ]
  },
  {
   "cell_type": "code",
   "execution_count": 34,
   "id": "59941597",
   "metadata": {},
   "outputs": [],
   "source": [
    "cols = ['Petrol_tax','Average_income','Paved_Highways','Population_Driver_licence(%)']"
   ]
  },
  {
   "cell_type": "code",
   "execution_count": 35,
   "id": "bd0b51cc",
   "metadata": {},
   "outputs": [],
   "source": [
    "#Model function\n",
    "def model(algorithm,dtrain_X,dtrain_Y,dtest_X,dtest_Y,cols=None):\n",
    "\n",
    "    #algorithm.fit(dtrain_X,dtrain_Y)\n",
    "    predictions = algorithm.predict(dtest_X)\n",
    "    prediction_probabilities = algorithm.predict(dtest_X)\n",
    "    print (algorithm)\n",
    "    \n",
    "    return predictions,prediction_probabilities,algorithm"
   ]
  },
  {
   "cell_type": "code",
   "execution_count": 36,
   "id": "107e9db8",
   "metadata": {
    "scrolled": true
   },
   "outputs": [
    {
     "name": "stdout",
     "output_type": "stream",
     "text": [
      "<tensorflow.python.keras.engine.functional.Functional object at 0x7f045016cda0>\n"
     ]
    }
   ],
   "source": [
    "y_pred,y_prob,model_obj=model(model_tf,X_train,y_train,X_test,y_test)"
   ]
  },
  {
   "cell_type": "code",
   "execution_count": 37,
   "id": "c1aebb98",
   "metadata": {},
   "outputs": [],
   "source": [
    "from mosaicml import *\n",
    "from mosaicml.constants import MLModelFlavours"
   ]
  },
  {
   "cell_type": "code",
   "execution_count": 65,
   "id": "72966ecc",
   "metadata": {},
   "outputs": [],
   "source": [
    "@scoring_func\n",
    "def score(model, request):\n",
    "    payload = request.json[\"payload\"]\n",
    "    data = pd.DataFrame(eval(payload))\n",
    "    prediction = model.predict(data)\n",
    "    #prediction = pd.Series(model.predict(data))\n",
    "    #print (prediction)\n",
    "    return prediction\n",
    "    #return prediction.tolist()"
   ]
  },
  {
   "cell_type": "code",
   "execution_count": 43,
   "id": "8a28ac93",
   "metadata": {
    "scrolled": true
   },
   "outputs": [
    {
     "data": {
      "text/html": [
       "<div>\n",
       "<style scoped>\n",
       "    .dataframe tbody tr th:only-of-type {\n",
       "        vertical-align: middle;\n",
       "    }\n",
       "\n",
       "    .dataframe tbody tr th {\n",
       "        vertical-align: top;\n",
       "    }\n",
       "\n",
       "    .dataframe thead th {\n",
       "        text-align: right;\n",
       "    }\n",
       "</style>\n",
       "<table border=\"1\" class=\"dataframe\">\n",
       "  <thead>\n",
       "    <tr style=\"text-align: right;\">\n",
       "      <th></th>\n",
       "      <th>Petrol_tax</th>\n",
       "      <th>Average_income</th>\n",
       "      <th>Paved_Highways</th>\n",
       "      <th>Population_Driver_licence(%)</th>\n",
       "      <th>Petrol_Consumption</th>\n",
       "    </tr>\n",
       "  </thead>\n",
       "  <tbody>\n",
       "    <tr>\n",
       "      <th>0</th>\n",
       "      <td>9.0</td>\n",
       "      <td>3571</td>\n",
       "      <td>1976</td>\n",
       "      <td>0.525</td>\n",
       "      <td>541</td>\n",
       "    </tr>\n",
       "    <tr>\n",
       "      <th>1</th>\n",
       "      <td>9.0</td>\n",
       "      <td>4092</td>\n",
       "      <td>1250</td>\n",
       "      <td>0.572</td>\n",
       "      <td>524</td>\n",
       "    </tr>\n",
       "    <tr>\n",
       "      <th>2</th>\n",
       "      <td>9.0</td>\n",
       "      <td>3865</td>\n",
       "      <td>1586</td>\n",
       "      <td>0.580</td>\n",
       "      <td>561</td>\n",
       "    </tr>\n",
       "    <tr>\n",
       "      <th>3</th>\n",
       "      <td>7.5</td>\n",
       "      <td>4870</td>\n",
       "      <td>2351</td>\n",
       "      <td>0.529</td>\n",
       "      <td>414</td>\n",
       "    </tr>\n",
       "    <tr>\n",
       "      <th>4</th>\n",
       "      <td>8.0</td>\n",
       "      <td>4399</td>\n",
       "      <td>431</td>\n",
       "      <td>0.544</td>\n",
       "      <td>410</td>\n",
       "    </tr>\n",
       "  </tbody>\n",
       "</table>\n",
       "</div>"
      ],
      "text/plain": [
       "   Petrol_tax  Average_income  Paved_Highways  Population_Driver_licence(%)  \\\n",
       "0         9.0            3571            1976                         0.525   \n",
       "1         9.0            4092            1250                         0.572   \n",
       "2         9.0            3865            1586                         0.580   \n",
       "3         7.5            4870            2351                         0.529   \n",
       "4         8.0            4399             431                         0.544   \n",
       "\n",
       "   Petrol_Consumption  \n",
       "0                 541  \n",
       "1                 524  \n",
       "2                 561  \n",
       "3                 414  \n",
       "4                 410  "
      ]
     },
     "execution_count": 43,
     "metadata": {},
     "output_type": "execute_result"
    }
   ],
   "source": [
    "petrol_cons.head()"
   ]
  },
  {
   "cell_type": "code",
   "execution_count": 45,
   "id": "300dc0f1",
   "metadata": {},
   "outputs": [],
   "source": [
    "X_temp = pd.DataFrame(X,columns=cols)"
   ]
  },
  {
   "cell_type": "code",
   "execution_count": 46,
   "id": "837514d8",
   "metadata": {},
   "outputs": [],
   "source": [
    "import requests\n",
    "req = requests.Request()\n",
    "req.json = {\"payload\":X_temp.head(1).to_json(orient = 'records')}"
   ]
  },
  {
   "cell_type": "code",
   "execution_count": 47,
   "id": "d12e01a7",
   "metadata": {},
   "outputs": [
    {
     "data": {
      "text/plain": [
       "'[{\"Petrol_tax\":9.0,\"Average_income\":3571.0,\"Paved_Highways\":1976.0,\"Population_Driver_licence(%)\":0.525}]'"
      ]
     },
     "execution_count": 47,
     "metadata": {},
     "output_type": "execute_result"
    }
   ],
   "source": [
    "req.json['payload']"
   ]
  },
  {
   "cell_type": "code",
   "execution_count": 66,
   "id": "d6f9248d",
   "metadata": {},
   "outputs": [
    {
     "name": "stdout",
     "output_type": "stream",
     "text": [
      "{'input': {'type': 'pd.core.frame.DataFrame', 'items': {'type': 'object', 'properties': {'Petrol_tax': {'type': 'number', 'format': 'double'}, 'Average_income': {'type': 'number', 'format': 'double'}, 'Paved_Highways': {'type': 'number', 'format': 'double'}, 'Population_Driver_licence(%)': {'type': 'number', 'format': 'double'}}}, 'example': [{'Petrol_tax': 9.0, 'Average_income': 3571.0, 'Paved_Highways': 1976.0, 'Population_Driver_licence(%)': 0.525}, {'Petrol_tax': 9.0, 'Average_income': 4092.0, 'Paved_Highways': 1250.0, 'Population_Driver_licence(%)': 0.572}]}, 'output': {'type': 'np.ndarray', 'items': {'type': 'array', 'items': {'type': 'number', 'format': 'float'}}, 'example': [[374541.71875]]}}\n"
     ]
    }
   ],
   "source": [
    "sch = generate_schema(score,(model_obj, req),X_temp)\n",
    "print(sch)"
   ]
  },
  {
   "cell_type": "code",
   "execution_count": 68,
   "id": "e22c7c5a",
   "metadata": {},
   "outputs": [
    {
     "name": "stdout",
     "output_type": "stream",
     "text": [
      "Calculating build time metrics\n",
      "\n",
      "Progress: ██████████████████████████████████████████████████████████████████████ 100.0%\n"
     ]
    },
    {
     "name": "stderr",
     "output_type": "stream",
     "text": [
      "2022-02-20 14:31:01,840 - skater.core.explanations - WARNING - Progress bars slow down runs by 10-20%. For slightly \n",
      "faster runs, do progressbar=False\n",
      "2022-02-20 14:31:01,842 - skater.core.explanations - WARNING - Multiprocessing failed, going single process\n"
     ]
    },
    {
     "name": "stdout",
     "output_type": "stream",
     "text": [
      "[9/9] grid cells ████████████████████ Time elapsed: 0 seconds"
     ]
    },
    {
     "name": "stderr",
     "output_type": "stream",
     "text": [
      "2022-02-20 14:31:02,777 - skater.core.explanations - WARNING - Progress bars slow down runs by 10-20%. For slightly \n",
      "faster runs, do progressbar=False\n",
      "2022-02-20 14:31:02,779 - skater.core.explanations - WARNING - Multiprocessing failed, going single process\n"
     ]
    },
    {
     "name": "stdout",
     "output_type": "stream",
     "text": [
      "[30/30] grid cells ████████████████████ Time elapsed: 1 seconds"
     ]
    },
    {
     "name": "stderr",
     "output_type": "stream",
     "text": [
      "2022-02-20 14:31:04,918 - skater.core.explanations - WARNING - Progress bars slow down runs by 10-20%. For slightly \n",
      "faster runs, do progressbar=False\n",
      "2022-02-20 14:31:04,921 - skater.core.explanations - WARNING - Multiprocessing failed, going single process\n"
     ]
    },
    {
     "name": "stdout",
     "output_type": "stream",
     "text": [
      "[30/30] grid cells ████████████████████ Time elapsed: 1 seconds"
     ]
    },
    {
     "name": "stderr",
     "output_type": "stream",
     "text": [
      "2022-02-20 14:31:07,151 - skater.core.explanations - WARNING - Progress bars slow down runs by 10-20%. For slightly \n",
      "faster runs, do progressbar=False\n",
      "2022-02-20 14:31:07,153 - skater.core.explanations - WARNING - Multiprocessing failed, going single process\n"
     ]
    },
    {
     "name": "stdout",
     "output_type": "stream",
     "text": [
      "[30/30] grid cells ████████████████████ Time elapsed: 1 seconds"
     ]
    },
    {
     "name": "stderr",
     "output_type": "stream",
     "text": [
      "2022-02-20 14:31:09,320 - skater.core.explanations - WARNING - Progress bars slow down runs by 10-20%. For slightly \n",
      "faster runs, do progress_bar=False\n",
      "2022-02-20 14:31:09,323 - skater.core.explanations - WARNING - Multiprocessing failed, going single process\n"
     ]
    },
    {
     "name": "stdout",
     "output_type": "stream",
     "text": [
      "[4/4] features ████████████████████ Time elapsed: 0 secondsFeature Importance could not be generated for this model\n",
      "Something went wrong. Importances do not sum to a positive value\n",
      "This could be due to:\n",
      "1) 0 or infinite divisions\n",
      "2) perturbed values == original values\n",
      "3) feature is a constant\n",
      "\n"
     ]
    },
    {
     "name": "stderr",
     "output_type": "stream",
     "text": [
      "2022-02-20 14:31:09,710 - skater.core.global_interpretation.tree_surrogate - INFO - post pruning applied ...\n",
      "2022-02-20 14:31:09,716 - skater.core.global_interpretation.tree_surrogate - INFO - Scorer used MAE\n",
      "2022-02-20 14:31:09,720 - skater.core.global_interpretation.tree_surrogate - INFO - original score using base model 0.0\n",
      "2022-02-20 14:31:09,740 - skater.core.global_interpretation.tree_surrogate - INFO - Summary: childrens of the following nodes are removed [64]\n",
      "2022-02-20 14:31:09,741 - skater.core.global_interpretation.tree_surrogate - INFO - Done generating prediction using the surrogate, shape (38,)\n",
      "2022-02-20 14:31:09,742 - skater.core.global_interpretation.tree_surrogate - INFO - Done scoring, surrogate score 0.004; oracle score 48.91\n",
      "2022-02-20 14:31:09,742 - skater.core.global_interpretation.tree_surrogate - WARNING - impurity score: 48.906 of the surrogate model is higher than the impurity threshold: 0.01. The higher the impurity score, lower is the fidelity/faithfulness of the surrogate model\n"
     ]
    },
    {
     "data": {
      "application/vnd.jupyter.widget-view+json": {
       "model_id": "4e49744b6fed4979bbcbade36299488e",
       "version_major": 2,
       "version_minor": 0
      },
      "text/plain": [
       "VBox(children=(HTML(value='<style>.grad_1{background: #2468a4;} .grad_2{ color:white; background: #2468a4;}</s…"
      ]
     },
     "metadata": {},
     "output_type": "display_data"
    },
    {
     "name": "stdout",
     "output_type": "stream",
     "text": [
      "Registering model\n"
     ]
    }
   ],
   "source": [
    "register_model(model_obj, score, name=\"CarEvaluation_RegressionTENSORFLOW\", \n",
    "                description=\"Classify Car basis the feature\",\n",
    "                flavour=MLModelFlavours.tensorflow, schema=sch,\n",
    "                y_true=y_test, y_pred = y_pred, #y_pred=pd.Series(y_pred), \n",
    "                prob=y_pred, features=cols, \n",
    "               labels=[\"Petrol_Consumption\"], \n",
    "               init_script=\"\" ,\n",
    "                model_type=\"regression\", \n",
    "                input_type=\"json\", explain_ai=True, x_train=X_train, x_test=X_test, \n",
    "                y_train=y_train, y_test=y_test,\n",
    "                feature_names=cols,feature_ids=cols,\n",
    "                target_names=[\"Petrol_Consumption\"], \n",
    "                kyd=False, kyd_score =False)\n",
    "print(\"Registering model\")"
   ]
  },
  {
   "cell_type": "code",
   "execution_count": null,
   "id": "955350b4",
   "metadata": {},
   "outputs": [],
   "source": []
  },
  {
   "cell_type": "code",
   "execution_count": null,
   "id": "341eabe6",
   "metadata": {},
   "outputs": [],
   "source": []
  }
 ],
 "metadata": {
  "kernelspec": {
   "display_name": "Python 3",
   "language": "python",
   "name": "python3"
  },
  "language_info": {
   "codemirror_mode": {
    "name": "ipython",
    "version": 3
   },
   "file_extension": ".py",
   "mimetype": "text/x-python",
   "name": "python",
   "nbconvert_exporter": "python",
   "pygments_lexer": "ipython3",
   "version": "3.6.13"
  }
 },
 "nbformat": 4,
 "nbformat_minor": 5
}
